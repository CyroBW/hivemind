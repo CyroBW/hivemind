{
 "cells": [
  {
   "cell_type": "code",
   "execution_count": 6,
   "metadata": {},
   "outputs": [
    {
     "name": "stdout",
     "output_type": "stream",
     "text": [
      "136 ms ± 2.07 ms per loop (mean ± std. dev. of 7 runs, 10 loops each)\n"
     ]
    }
   ],
   "source": [
    "from dataclasses import dataclass\n",
    "import flax.linen as nn\n",
    "from flax import struct\n",
    "\n",
    "\n",
    "def mish(x): return x * jnp.tanh(jax.nn.softplus(x))\n",
    "\n",
    "@dataclass\n",
    "class AZResnetConfig:\n",
    "    model_type: str\n",
    "    policy_head_out_size: int\n",
    "    num_blocks: int\n",
    "    num_channels: int\n",
    "\n",
    "class ResidualBlock(nn.Module):\n",
    "    channels: int\n",
    "\n",
    "    @nn.compact\n",
    "    def __call__(self, x, train: bool):\n",
    "        y = nn.Conv(features=self.channels, kernel_size=(3,3), strides=(1,1), padding='SAME', use_bias=False)(x)\n",
    "        y = nn.BatchNorm(use_running_average=not train)(y)\n",
    "        y = mish(y)\n",
    "        y = nn.Conv(features=self.channels, kernel_size=(3,3), strides=(1,1), padding='SAME', use_bias=False)(y)\n",
    "        y = nn.BatchNorm(use_running_average=not train)(y)\n",
    "        return mish(x + y)\n",
    "\n",
    "class AZResnet(nn.Module):\n",
    "    config: AZResnetConfig\n",
    "\n",
    "    @nn.compact\n",
    "    def __call__(self, x, train: bool):\n",
    "        x = nn.Conv(features=self.config.num_channels, kernel_size=(1,1), strides=(1,1), padding='SAME', use_bias=False)(x)\n",
    "        x = nn.BatchNorm(use_running_average=not train)(x)\n",
    "        x = nn.relu(x)\n",
    "\n",
    "        for _ in range(self.config.num_blocks):\n",
    "            x = ResidualBlock(channels=self.config.num_channels)(x, train=train)\n",
    "\n",
    "        # policy head\n",
    "        policy = nn.Conv(features=2, kernel_size=(1,1), strides=(1,1), padding='SAME', use_bias=False)(x)\n",
    "        policy = nn.BatchNorm(use_running_average=not train)(policy)\n",
    "        policy = nn.relu(policy)\n",
    "        policy = policy.reshape((policy.shape[0], -1))\n",
    "        policy = nn.Dense(features=self.config.policy_head_out_size)(policy)\n",
    "\n",
    "        # value head\n",
    "        value = nn.Conv(features=1, kernel_size=(1,1), strides=(1,1), padding='SAME', use_bias=False)(x)\n",
    "        value = nn.BatchNorm(use_running_average=not train)(value)\n",
    "        value = nn.relu(value)\n",
    "        value = value.reshape((value.shape[0], -1))\n",
    "        value = nn.Dense(features=1)(value)\n",
    "        value = nn.tanh(value)\n",
    "\n",
    "        return policy, value\n",
    "\n",
    "import jax\n",
    "import jax.numpy as jnp \n",
    "model = AZResnet(AZResnetConfig(\n",
    "    model_type=\"resnet\",\n",
    "    policy_head_out_size=4992,\n",
    "    num_blocks=15,\n",
    "    num_channels=4,\n",
    "))\n",
    "batch = jnp.ones((1024, 8, 16))\n",
    "variables = model.init(jax.random.key(0), batch, train=False)\n",
    "%timeit output = model.apply(variables, batch, train=False)"
   ]
  }
 ],
 "metadata": {
  "kernelspec": {
   "display_name": "py39",
   "language": "python",
   "name": "python3"
  },
  "language_info": {
   "codemirror_mode": {
    "name": "ipython",
    "version": 3
   },
   "file_extension": ".py",
   "mimetype": "text/x-python",
   "name": "python",
   "nbconvert_exporter": "python",
   "pygments_lexer": "ipython3",
   "version": "3.9.18"
  }
 },
 "nbformat": 4,
 "nbformat_minor": 2
}
