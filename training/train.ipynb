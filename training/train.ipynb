{
 "cells": [
  {
   "cell_type": "code",
   "execution_count": 28,
   "metadata": {},
   "outputs": [
    {
     "name": "stdout",
     "output_type": "stream",
     "text": [
      "159 µs ± 555 ns per loop (mean ± std. dev. of 7 runs, 10,000 loops each)\n"
     ]
    }
   ],
   "source": [
    "import chess\n",
    "\n",
    "from board import BughouseBoard\n",
    "\n",
    "board = BughouseBoard()\n",
    "board.set_fen(\n",
    "    'rnbqkbnr/pp1ppppp/8/8/1PpPP3/8/P1P2PPP/RNBQKBNR b KQkq b3 0 3 | r~3kb1r~/pppbqppp/4P3/3pN~3/3Pn3/8/PPP2PPP/R1BQK2R[] b Kq')\n",
    "board.set_time([[1089, 781], [155, 35]])\n",
    "%timeit planes = board2planes(board, chess.WHITE)\n",
    "#print(type(planes))\n"
   ]
  },
  {
   "cell_type": "code",
   "execution_count": 3,
   "metadata": {},
   "outputs": [],
   "source": [
    "from architectures.azresnet import AZResnet, AZResnetConfig\n",
    "from constants import POLICY_LABELS\n",
    "\n",
    "model = AZResnet(AZResnetConfig(\n",
    "    num_blocks=15,\n",
    "    channels=256,\n",
    "    policy_channels=4, \n",
    "    value_channels=8,\n",
    "    num_policy_labels=len(POLICY_LABELS),\n",
    "))\n",
    "\n"
   ]
  },
  {
   "cell_type": "code",
   "execution_count": 1,
   "metadata": {},
   "outputs": [
    {
     "data": {
      "text/plain": [
       "True"
      ]
     },
     "execution_count": 1,
     "metadata": {},
     "output_type": "execute_result"
    }
   ],
   "source": [
    "from loader import BughouseDataset \n",
    "\n",
    "generator = BughouseDataset(\"../data/games.json\")\n",
    "generator.load_chunk()"
   ]
  },
  {
   "cell_type": "code",
   "execution_count": 2,
   "metadata": {},
   "outputs": [
    {
     "name": "stdout",
     "output_type": "stream",
     "text": [
      "torch.Size([1024, 32, 8, 16])\n",
      "torch.Size([29, 32, 8, 16])\n",
      "torch.Size([1024, 32, 8, 16])\n",
      "torch.Size([22, 32, 8, 16])\n",
      "torch.Size([1024, 32, 8, 16])\n",
      "torch.Size([94, 32, 8, 16])\n",
      "torch.Size([1024, 32, 8, 16])\n",
      "torch.Size([85, 32, 8, 16])\n",
      "torch.Size([1024, 32, 8, 16])\n",
      "torch.Size([76, 32, 8, 16])\n",
      "torch.Size([1024, 32, 8, 16])\n",
      "torch.Size([94, 32, 8, 16])\n",
      "torch.Size([1024, 32, 8, 16])\n",
      "torch.Size([89, 32, 8, 16])\n",
      "torch.Size([1024, 32, 8, 16])\n",
      "torch.Size([65, 32, 8, 16])\n",
      "torch.Size([1024, 32, 8, 16])\n",
      "torch.Size([171, 32, 8, 16])\n",
      "torch.Size([1024, 32, 8, 16])\n",
      "torch.Size([28, 32, 8, 16])\n",
      "torch.Size([1024, 32, 8, 16])\n",
      "torch.Size([66, 32, 8, 16])\n",
      "torch.Size([1024, 32, 8, 16])\n",
      "torch.Size([129, 32, 8, 16])\n",
      "torch.Size([1024, 32, 8, 16])\n",
      "torch.Size([99, 32, 8, 16])\n",
      "torch.Size([1024, 32, 8, 16])\n",
      "torch.Size([1, 32, 8, 16])\n",
      "torch.Size([1024, 32, 8, 16])\n",
      "torch.Size([53, 32, 8, 16])\n",
      "torch.Size([1024, 32, 8, 16])\n",
      "torch.Size([76, 32, 8, 16])\n",
      "torch.Size([1024, 32, 8, 16])\n",
      "torch.Size([140, 32, 8, 16])\n",
      "torch.Size([1024, 32, 8, 16])\n",
      "torch.Size([15, 32, 8, 16])\n",
      "torch.Size([1024, 32, 8, 16])\n",
      "torch.Size([2, 32, 8, 16])\n",
      "torch.Size([1024, 32, 8, 16])\n",
      "torch.Size([1, 32, 8, 16])\n",
      "torch.Size([1024, 32, 8, 16])\n",
      "torch.Size([6, 32, 8, 16])\n",
      "torch.Size([1024, 32, 8, 16])\n",
      "torch.Size([57, 32, 8, 16])\n",
      "torch.Size([1024, 32, 8, 16])\n",
      "torch.Size([62, 32, 8, 16])\n",
      "torch.Size([1024, 32, 8, 16])\n",
      "torch.Size([147, 32, 8, 16])\n",
      "torch.Size([1024, 32, 8, 16])\n",
      "torch.Size([18, 32, 8, 16])\n",
      "torch.Size([1024, 32, 8, 16])\n",
      "torch.Size([161, 32, 8, 16])\n",
      "torch.Size([1024, 32, 8, 16])\n",
      "torch.Size([69, 32, 8, 16])\n",
      "torch.Size([1024, 32, 8, 16])\n",
      "torch.Size([138, 32, 8, 16])\n",
      "torch.Size([1024, 32, 8, 16])\n",
      "torch.Size([24, 32, 8, 16])\n",
      "torch.Size([1024, 32, 8, 16])\n",
      "torch.Size([78, 32, 8, 16])\n",
      "torch.Size([1024, 32, 8, 16])\n",
      "torch.Size([117, 32, 8, 16])\n",
      "torch.Size([1024, 32, 8, 16])\n",
      "torch.Size([9, 32, 8, 16])\n",
      "torch.Size([1024, 32, 8, 16])\n",
      "torch.Size([71, 32, 8, 16])\n"
     ]
    },
    {
     "ename": "KeyboardInterrupt",
     "evalue": "",
     "output_type": "error",
     "traceback": [
      "\u001b[0;31m---------------------------------------------------------------------------\u001b[0m",
      "\u001b[0;31mKeyboardInterrupt\u001b[0m                         Traceback (most recent call last)",
      "Cell \u001b[0;32mIn[2], line 5\u001b[0m\n\u001b[1;32m      3\u001b[0m num_epochs \u001b[38;5;241m=\u001b[39m \u001b[38;5;241m1\u001b[39m\n\u001b[1;32m      4\u001b[0m \u001b[38;5;28;01mfor\u001b[39;00m epoch \u001b[38;5;129;01min\u001b[39;00m \u001b[38;5;28mrange\u001b[39m(num_epochs):\n\u001b[0;32m----> 5\u001b[0m     \u001b[38;5;28;01mwhile\u001b[39;00m \u001b[43mgenerator\u001b[49m\u001b[38;5;241;43m.\u001b[39;49m\u001b[43mload_chunk\u001b[49m\u001b[43m(\u001b[49m\u001b[43m)\u001b[49m:\n\u001b[1;32m      6\u001b[0m         trainloader \u001b[38;5;241m=\u001b[39m DataLoader(generator, batch_size\u001b[38;5;241m=\u001b[39m\u001b[38;5;241m1024\u001b[39m, shuffle\u001b[38;5;241m=\u001b[39m\u001b[38;5;28;01mTrue\u001b[39;00m)\n\u001b[1;32m      7\u001b[0m         \u001b[38;5;28;01mfor\u001b[39;00m board_planes, (y_value, y_policy) \u001b[38;5;129;01min\u001b[39;00m trainloader:\n",
      "File \u001b[0;32m~/Desktop/hivemind/training/loader.py:199\u001b[0m, in \u001b[0;36mBughouseDataset.load_chunk\u001b[0;34m(self, chunk_size)\u001b[0m\n\u001b[1;32m    197\u001b[0m     move_planes[board_num][POLICY_LABELS\u001b[38;5;241m.\u001b[39mindex(\u001b[38;5;28mstr\u001b[39m(move))] \u001b[38;5;241m=\u001b[39m \u001b[38;5;241m1\u001b[39m\n\u001b[1;32m    198\u001b[0m \u001b[38;5;28;01melse\u001b[39;00m:\n\u001b[0;32m--> 199\u001b[0m     move_planes[board_num][POLICY_LABELS\u001b[38;5;241m.\u001b[39mindex(\u001b[43mmirrorMoveUCI\u001b[49m\u001b[43m(\u001b[49m\u001b[38;5;28;43mstr\u001b[39;49m\u001b[43m(\u001b[49m\u001b[43mmove\u001b[49m\u001b[43m)\u001b[49m\u001b[43m)\u001b[49m)] \u001b[38;5;241m=\u001b[39m \u001b[38;5;241m1\u001b[39m\n\u001b[1;32m    201\u001b[0m turn \u001b[38;5;241m=\u001b[39m board\u001b[38;5;241m.\u001b[39mget_turn(board_num)\n\u001b[1;32m    202\u001b[0m \u001b[38;5;28mself\u001b[39m\u001b[38;5;241m.\u001b[39mboard_data\u001b[38;5;241m.\u001b[39mappend(board2planes(board, turn \u001b[38;5;28;01mif\u001b[39;00m board_num \u001b[38;5;241m==\u001b[39m BOARD_A \u001b[38;5;28;01melse\u001b[39;00m \u001b[38;5;129;01mnot\u001b[39;00m turn)\u001b[38;5;241m.\u001b[39mflatten())\n",
      "File \u001b[0;32m~/Desktop/hivemind/training/move2planes.py:54\u001b[0m, in \u001b[0;36mmirrorMoveUCI\u001b[0;34m(uci_move)\u001b[0m\n\u001b[1;32m     53\u001b[0m \u001b[38;5;28;01mdef\u001b[39;00m \u001b[38;5;21mmirrorMoveUCI\u001b[39m(uci_move):\n\u001b[0;32m---> 54\u001b[0m     move \u001b[38;5;241m=\u001b[39m \u001b[43mchess\u001b[49m\u001b[38;5;241;43m.\u001b[39;49m\u001b[43mMove\u001b[49m\u001b[38;5;241;43m.\u001b[39;49m\u001b[43mfrom_uci\u001b[49m(uci_move)\n\u001b[1;32m     55\u001b[0m     \u001b[38;5;28;01mreturn\u001b[39;00m mirrorMove(move)\u001b[38;5;241m.\u001b[39muci()\n",
      "\u001b[0;31mKeyboardInterrupt\u001b[0m: "
     ]
    }
   ],
   "source": [
    "from torch.utils.data import DataLoader\n",
    "\n",
    "num_epochs = 1\n",
    "for epoch in range(num_epochs):\n",
    "    while generator.load_chunk():\n",
    "        train_loader = DataLoader(generator, batch_size=1024, shuffle=True, num_workers=8)\n",
    "        for board_planes, (y_value, y_policy) in train_loader:\n",
    "            print(board_planes.size())\n"
   ]
  }
 ],
 "metadata": {
  "kernelspec": {
   "display_name": "py39",
   "language": "python",
   "name": "python3"
  },
  "language_info": {
   "codemirror_mode": {
    "name": "ipython",
    "version": 3
   },
   "file_extension": ".py",
   "mimetype": "text/x-python",
   "name": "python",
   "nbconvert_exporter": "python",
   "pygments_lexer": "ipython3",
   "version": "3.9.18"
  }
 },
 "nbformat": 4,
 "nbformat_minor": 2
}
