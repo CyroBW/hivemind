{
 "cells": [
  {
   "cell_type": "code",
   "execution_count": 1,
   "metadata": {},
   "outputs": [
    {
     "name": "stderr",
     "output_type": "stream",
     "text": [
      "/home/ben/miniconda3/envs/py39/lib/python3.9/site-packages/tqdm/auto.py:21: TqdmWarning: IProgress not found. Please update jupyter and ipywidgets. See https://ipywidgets.readthedocs.io/en/stable/user_install.html\n",
      "  from .autonotebook import tqdm as notebook_tqdm\n"
     ]
    }
   ],
   "source": [
    "import jax.numpy as jnp \n",
    "from architectures.azresnet import AZResnet, AZResnetConfig\n",
    "from trainer import TrainerModule\n",
    "from constants import POLICY_LABELS, BOARD_HEIGHT, BOARD_WIDTH, NUM_BUGHOUSE_CHANNELS\n",
    "from loader import BughouseDataset"
   ]
  },
  {
   "cell_type": "code",
   "execution_count": 2,
   "metadata": {},
   "outputs": [
    {
     "name": "stderr",
     "output_type": "stream",
     "text": [
      "WARNING:absl:Configured `CheckpointManager` using deprecated legacy API. Please follow the instructions at https://orbax.readthedocs.io/en/latest/api_refactor.html to migrate by May 1st, 2024.\n"
     ]
    },
    {
     "ename": "KeyboardInterrupt",
     "evalue": "",
     "output_type": "error",
     "traceback": [
      "\u001b[0;31m---------------------------------------------------------------------------\u001b[0m",
      "\u001b[0;31mKeyboardInterrupt\u001b[0m                         Traceback (most recent call last)",
      "Cell \u001b[0;32mIn[2], line 12\u001b[0m\n\u001b[1;32m      9\u001b[0m trainer\u001b[38;5;241m.\u001b[39minit_optimizer()\n\u001b[1;32m     11\u001b[0m train_set \u001b[38;5;241m=\u001b[39m BughouseDataset(\u001b[38;5;124m\"\u001b[39m\u001b[38;5;124m../data/games.json.gz\u001b[39m\u001b[38;5;124m\"\u001b[39m)\n\u001b[0;32m---> 12\u001b[0m \u001b[43mtrainer\u001b[49m\u001b[38;5;241;43m.\u001b[39;49m\u001b[43mtrain_epoch\u001b[49m\u001b[43m(\u001b[49m\u001b[43mtrain_set\u001b[49m\u001b[43m)\u001b[49m\n\u001b[1;32m     13\u001b[0m trainer\u001b[38;5;241m.\u001b[39msave_checkpoint()\n\u001b[1;32m     14\u001b[0m \u001b[38;5;66;03m#trainer.load_checkpoint()\u001b[39;00m\n",
      "File \u001b[0;32m~/Desktop/hivemind/training/trainer.py:152\u001b[0m, in \u001b[0;36mTrainerModule.train_epoch\u001b[0;34m(self, train_set)\u001b[0m\n\u001b[1;32m    150\u001b[0m \u001b[38;5;28;01mdef\u001b[39;00m \u001b[38;5;21mtrain_epoch\u001b[39m(\u001b[38;5;28mself\u001b[39m, train_set):\n\u001b[1;32m    151\u001b[0m     \u001b[38;5;66;03m# Train model for one epoch, and log avg loss and accuracy\u001b[39;00m\n\u001b[0;32m--> 152\u001b[0m     \u001b[38;5;28;01mwhile\u001b[39;00m \u001b[43mtrain_set\u001b[49m\u001b[38;5;241;43m.\u001b[39;49m\u001b[43mload_chunk\u001b[49m\u001b[43m(\u001b[49m\u001b[43m)\u001b[49m:\n\u001b[1;32m    153\u001b[0m         train_loader \u001b[38;5;241m=\u001b[39m DataLoader(train_set, batch_size\u001b[38;5;241m=\u001b[39m\u001b[38;5;241m1024\u001b[39m, shuffle\u001b[38;5;241m=\u001b[39m\u001b[38;5;28;01mTrue\u001b[39;00m)\n\u001b[1;32m    154\u001b[0m         \u001b[38;5;28;01mfor\u001b[39;00m batch \u001b[38;5;129;01min\u001b[39;00m train_loader:\n",
      "File \u001b[0;32m~/Desktop/hivemind/training/loader.py:228\u001b[0m, in \u001b[0;36mBughouseDataset.load_chunk\u001b[0;34m(self, chunk_size)\u001b[0m\n\u001b[1;32m    224\u001b[0m     move_planes[\u001b[38;5;241m1\u001b[39m \u001b[38;5;241m-\u001b[39m board_num] \u001b[38;5;241m=\u001b[39m \u001b[38;5;241m0\u001b[39m  \u001b[38;5;66;03m# NO action\u001b[39;00m\n\u001b[1;32m    226\u001b[0m turn \u001b[38;5;241m=\u001b[39m board\u001b[38;5;241m.\u001b[39mget_turn(board_num)\n\u001b[1;32m    227\u001b[0m \u001b[38;5;28mself\u001b[39m\u001b[38;5;241m.\u001b[39mboard_data\u001b[38;5;241m.\u001b[39mappend(\n\u001b[0;32m--> 228\u001b[0m     \u001b[43mboard2planes\u001b[49m\u001b[43m(\u001b[49m\u001b[43mboard\u001b[49m\u001b[43m,\u001b[49m\u001b[43m \u001b[49m\u001b[43mturn\u001b[49m\u001b[43m \u001b[49m\u001b[38;5;28;43;01mif\u001b[39;49;00m\u001b[43m \u001b[49m\u001b[43mboard_num\u001b[49m\u001b[43m \u001b[49m\u001b[38;5;241;43m==\u001b[39;49m\u001b[43m \u001b[49m\u001b[43mBOARD_A\u001b[49m\u001b[43m \u001b[49m\u001b[38;5;28;43;01melse\u001b[39;49;00m\u001b[43m \u001b[49m\u001b[38;5;129;43;01mnot\u001b[39;49;00m\u001b[43m \u001b[49m\u001b[43mturn\u001b[49m\u001b[43m)\u001b[49m\n\u001b[1;32m    229\u001b[0m )\n\u001b[1;32m    230\u001b[0m \u001b[38;5;28mself\u001b[39m\u001b[38;5;241m.\u001b[39mmove_data\u001b[38;5;241m.\u001b[39mappend(move_planes)\n\u001b[1;32m    231\u001b[0m \u001b[38;5;28mself\u001b[39m\u001b[38;5;241m.\u001b[39mresult_data\u001b[38;5;241m.\u001b[39mappend(np\u001b[38;5;241m.\u001b[39marray([parser\u001b[38;5;241m.\u001b[39mget_result(board_num, turn)]))\n",
      "File \u001b[0;32m~/Desktop/hivemind/training/board2planes.py:54\u001b[0m, in \u001b[0;36mboard2planes\u001b[0;34m(board, side)\u001b[0m\n\u001b[1;32m     52\u001b[0m         a[\u001b[38;5;28mlist\u001b[39m(boards[BOARD_A]\u001b[38;5;241m.\u001b[39mpieces(piece, color))] \u001b[38;5;241m=\u001b[39m \u001b[38;5;241m1\u001b[39m\n\u001b[1;32m     53\u001b[0m         b[\u001b[38;5;28mlist\u001b[39m(boards[BOARD_B]\u001b[38;5;241m.\u001b[39mpieces(piece, \u001b[38;5;129;01mnot\u001b[39;00m color))] \u001b[38;5;241m=\u001b[39m \u001b[38;5;241m1\u001b[39m\n\u001b[0;32m---> 54\u001b[0m         planes[c] \u001b[38;5;241m=\u001b[39m \u001b[43mnp\u001b[49m\u001b[38;5;241;43m.\u001b[39;49m\u001b[43mconcatenate\u001b[49m\u001b[43m(\u001b[49m\n\u001b[1;32m     55\u001b[0m \u001b[43m            \u001b[49m\u001b[43m(\u001b[49m\n\u001b[1;32m     56\u001b[0m \u001b[43m                \u001b[49m\u001b[43ma\u001b[49m\u001b[38;5;241;43m.\u001b[39;49m\u001b[43mreshape\u001b[49m\u001b[43m(\u001b[49m\u001b[43mBOARD_HEIGHT\u001b[49m\u001b[43m,\u001b[49m\u001b[43m \u001b[49m\u001b[43mBOARD_WIDTH\u001b[49m\u001b[43m)\u001b[49m\u001b[43m,\u001b[49m\n\u001b[1;32m     57\u001b[0m \u001b[43m                \u001b[49m\u001b[43mb\u001b[49m\u001b[38;5;241;43m.\u001b[39;49m\u001b[43mreshape\u001b[49m\u001b[43m(\u001b[49m\u001b[43mBOARD_HEIGHT\u001b[49m\u001b[43m,\u001b[49m\u001b[43m \u001b[49m\u001b[43mBOARD_WIDTH\u001b[49m\u001b[43m)\u001b[49m\u001b[43m,\u001b[49m\n\u001b[1;32m     58\u001b[0m \u001b[43m            \u001b[49m\u001b[43m)\u001b[49m\u001b[43m,\u001b[49m\n\u001b[1;32m     59\u001b[0m \u001b[43m            \u001b[49m\u001b[43maxis\u001b[49m\u001b[38;5;241;43m=\u001b[39;49m\u001b[38;5;241;43m1\u001b[39;49m\u001b[43m,\u001b[49m\n\u001b[1;32m     60\u001b[0m \u001b[43m        \u001b[49m\u001b[43m)\u001b[49m\n\u001b[1;32m     61\u001b[0m         c \u001b[38;5;241m+\u001b[39m\u001b[38;5;241m=\u001b[39m \u001b[38;5;241m1\u001b[39m\n\u001b[1;32m     63\u001b[0m \u001b[38;5;66;03m# Drops\u001b[39;00m\n",
      "\u001b[0;31mKeyboardInterrupt\u001b[0m: "
     ]
    }
   ],
   "source": [
    "trainer = TrainerModule(model_name=\"AZResNet\", model_class=AZResnet, model_configs=AZResnetConfig(\n",
    "    num_blocks=15,\n",
    "    channels=256,\n",
    "    policy_channels=4, \n",
    "    value_channels=8,\n",
    "    num_policy_labels=len(POLICY_LABELS)\n",
    "), optimizer_name='adam', optimizer_hparams={'learning_rate': 0.0001}, x=jnp.ones((1024, BOARD_HEIGHT, 2 * BOARD_WIDTH, NUM_BUGHOUSE_CHANNELS)))\n",
    "\n",
    "trainer.init_optimizer()\n",
    "\n",
    "train_set = BughouseDataset(\"../data/games.json.gz\")\n",
    "trainer.train_epoch(train_set)\n",
    "trainer.save_checkpoint()\n",
    "#trainer.load_checkpoint()"
   ]
  }
 ],
 "metadata": {
  "kernelspec": {
   "display_name": "py39",
   "language": "python",
   "name": "python3"
  },
  "language_info": {
   "codemirror_mode": {
    "name": "ipython",
    "version": 3
   },
   "file_extension": ".py",
   "mimetype": "text/x-python",
   "name": "python",
   "nbconvert_exporter": "python",
   "pygments_lexer": "ipython3",
   "version": "3.9.18"
  }
 },
 "nbformat": 4,
 "nbformat_minor": 2
}
